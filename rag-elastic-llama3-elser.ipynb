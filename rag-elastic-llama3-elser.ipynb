{
 "cells": [
  {
   "metadata": {},
   "cell_type": "markdown",
   "source": "#### Install required dependencies",
   "id": "7497ed11046b9a21"
  },
  {
   "metadata": {},
   "cell_type": "code",
   "source": [
    "!pip install langchain\n",
    "!pip install langchain-elasticsearch\n",
    "!pip install langchain-community\n",
    "!pip install tiktoken"
   ],
   "id": "a0c049f18215f065",
   "outputs": [],
   "execution_count": null
  },
  {
   "metadata": {},
   "cell_type": "markdown",
   "source": "#### Import packages",
   "id": "e97921e3cf79cc71"
  },
  {
   "metadata": {},
   "cell_type": "code",
   "source": [
    "from langchain.text_splitter import RecursiveCharacterTextSplitter, CharacterTextSplitter\n",
    "from langchain_elasticsearch import ElasticsearchStore\n",
    "from langchain_community.llms import Ollama\n",
    "from langchain.chains import RetrievalQA\n",
    "from langchain.prompts import ChatPromptTemplate\n",
    "from langchain.schema.output_parser import StrOutputParser\n",
    "from langchain.schema.runnable import RunnablePassthrough\n",
    "from langchain_elasticsearch import ElasticsearchStore\n",
    "from getpass import getpass\n",
    "from urllib.request import urlopen\n",
    "import json"
   ],
   "id": "51c420640a6b2a43",
   "outputs": [],
   "execution_count": null
  },
  {
   "metadata": {},
   "cell_type": "markdown",
   "source": "#### Prompt user to provide Cloud ID and API Key",
   "id": "96d6fab134fd493d"
  },
  {
   "metadata": {},
   "cell_type": "code",
   "source": [
    "# https://www.elastic.co/search-labs/tutorials/install-elasticsearch/elastic-cloud#finding-your-cloud-id\n",
    "ELASTIC_CLOUD_ID = getpass(\"Elastic Cloud ID: \")\n",
    "\n",
    "# https://www.elastic.co/search-labs/tutorials/install-elasticsearch/elastic-cloud#creating-an-api-key\n",
    "ELASTIC_API_KEY = getpass(\"Elastic Api Key: \")"
   ],
   "id": "5be75ecc855e59b9",
   "outputs": [],
   "execution_count": null
  },
  {
   "metadata": {},
   "cell_type": "markdown",
   "source": "#### Prepare documents for chunking and ingestion",
   "id": "84f107432173d8df"
  },
  {
   "metadata": {},
   "cell_type": "code",
   "source": [
    "url = \"https://raw.githubusercontent.com/elastic/elasticsearch-labs/main/datasets/workplace-documents.json\"\n",
    "\n",
    "response = urlopen(url)\n",
    "\n",
    "workplace_docs = json.loads(response.read())\n",
    "metadata = []\n",
    "content = []\n",
    "for doc in workplace_docs:\n",
    "    content.append(doc[\"content\"])\n",
    "    metadata.append(\n",
    "        {\n",
    "            \"name\": doc[\"name\"],\n",
    "            \"summary\": doc[\"summary\"],\n",
    "            \"rolePermissions\": doc[\"rolePermissions\"],\n",
    "        }\n",
    "    )\n",
    "    \n",
    "text_splitter = RecursiveCharacterTextSplitter.from_tiktoken_encoder(\n",
    "    chunk_size=512, chunk_overlap=256\n",
    ")\n",
    "docs = text_splitter.create_documents(content, metadatas=metadata)"
   ],
   "id": "4f949859a20b22d6",
   "outputs": [],
   "execution_count": null
  },
  {
   "metadata": {},
   "cell_type": "markdown",
   "source": "#### Define Elasticsearch Vector Store",
   "id": "a52ec8a0a663f581"
  },
  {
   "metadata": {},
   "cell_type": "code",
   "source": [
    "es_vector_store = ElasticsearchStore(\n",
    "    es_cloud_id=ELASTIC_CLOUD_ID,\n",
    "    es_api_key=ELASTIC_API_KEY,\n",
    "    index_name=\"workplace_index_elser\",\n",
    "    strategy=ElasticsearchStore.SparseVectorRetrievalStrategy(\n",
    "        model_id=\".elser_model_2_linux-x86_64\"\n",
    "    )\n",
    ")\n"
   ],
   "id": "fc52a85c69f6e9fb",
   "outputs": [],
   "execution_count": null
  },
  {
   "metadata": {},
   "cell_type": "markdown",
   "source": "#### Add docs processed above. The document has already been chunked. The embeddings would be generated in Elasticsearch with an ingestion pipeline.",
   "id": "7f38b91b2a358994"
  },
  {
   "metadata": {},
   "cell_type": "code",
   "source": "es_vector_store.add_documents(documents=docs)",
   "id": "5ee38329856ea47c",
   "outputs": [],
   "execution_count": null
  },
  {
   "metadata": {},
   "cell_type": "markdown",
   "source": "#### LLM Configuration",
   "id": "8a5a628abfb6a5a"
  },
  {
   "metadata": {},
   "cell_type": "code",
   "source": "llm = Ollama(model=\"llama3\")",
   "id": "23e35e152e9a2714",
   "outputs": [],
   "execution_count": null
  },
  {
   "metadata": {},
   "cell_type": "markdown",
   "source": "#### Semantic Search using Elasticsearch ELSER and Llama3",
   "id": "dbca801f2aae187"
  },
  {
   "metadata": {},
   "cell_type": "code",
   "source": [
    "def format_docs(docs):\n",
    "    return \"\\n\\n\".join(doc.page_content for doc in docs)\n",
    "\n",
    "retriever = es_vector_store.as_retriever()\n",
    "template = \"\"\"Answer the question based only on the following context:\\n\n",
    "\n",
    "                {context}\n",
    "                \n",
    "                Question: {question}\n",
    "               \"\"\"\n",
    "prompt = ChatPromptTemplate.from_template(template)\n",
    "chain = (\n",
    "    {\"context\": retriever | format_docs, \"question\": RunnablePassthrough()}\n",
    "    | prompt\n",
    "    | llm\n",
    "    | StrOutputParser()\n",
    ")\n",
    "\n",
    "chain.invoke(\"What are the organizations sales goals?\")"
   ],
   "id": "d348766295f19e35",
   "outputs": [],
   "execution_count": null
  },
  {
   "metadata": {},
   "cell_type": "code",
   "source": "",
   "id": "a05c080e55bde56c",
   "outputs": [],
   "execution_count": null
  }
 ],
 "metadata": {
  "kernelspec": {
   "display_name": ".venv",
   "language": "python",
   "name": ".venv"
  },
  "language_info": {
   "codemirror_mode": {
    "name": "ipython",
    "version": 2
   },
   "file_extension": ".py",
   "mimetype": "text/x-python",
   "name": "python",
   "nbconvert_exporter": "python",
   "pygments_lexer": "ipython2",
   "version": "2.7.6"
  }
 },
 "nbformat": 4,
 "nbformat_minor": 5
}
