{
 "cells": [
  {
   "metadata": {},
   "cell_type": "markdown",
   "source": "#### Install required dependencies",
   "id": "7497ed11046b9a21"
  },
  {
   "metadata": {},
   "cell_type": "code",
   "source": [
    "!pip install langchain\n",
    "!pip install langchain-elasticsearch\n",
    "!pip install langchain-community\n",
    "!pip install tiktoken"
   ],
   "id": "a0c049f18215f065",
   "outputs": [],
   "execution_count": null
  },
  {
   "metadata": {},
   "cell_type": "markdown",
   "source": "#### Import packages",
   "id": "e97921e3cf79cc71"
  },
  {
   "metadata": {
    "ExecuteTime": {
     "end_time": "2024-05-30T17:46:13.745009Z",
     "start_time": "2024-05-30T17:46:13.232670Z"
    }
   },
   "cell_type": "code",
   "source": [
    "from langchain.text_splitter import RecursiveCharacterTextSplitter, CharacterTextSplitter\n",
    "from langchain_elasticsearch import ElasticsearchStore\n",
    "from langchain_community.llms import Ollama\n",
    "from langchain.chains import RetrievalQA\n",
    "from langchain.prompts import ChatPromptTemplate\n",
    "from langchain.schema.output_parser import StrOutputParser\n",
    "from langchain.schema.runnable import RunnablePassthrough\n",
    "from langchain_elasticsearch import ElasticsearchStore\n",
    "from getpass import getpass\n",
    "from urllib.request import urlopen\n",
    "import json"
   ],
   "id": "51c420640a6b2a43",
   "outputs": [],
   "execution_count": 4
  },
  {
   "metadata": {},
   "cell_type": "markdown",
   "source": "#### Prompt user to provide Cloud ID and API Key",
   "id": "96d6fab134fd493d"
  },
  {
   "metadata": {
    "ExecuteTime": {
     "end_time": "2024-05-30T17:46:23.546775Z",
     "start_time": "2024-05-30T17:46:16.894035Z"
    }
   },
   "cell_type": "code",
   "source": [
    "# https://www.elastic.co/search-labs/tutorials/install-elasticsearch/elastic-cloud#finding-your-cloud-id\n",
    "ELASTIC_CLOUD_ID = getpass(\"Elastic Cloud ID: \")\n",
    "\n",
    "# https://www.elastic.co/search-labs/tutorials/install-elasticsearch/elastic-cloud#creating-an-api-key\n",
    "ELASTIC_API_KEY = getpass(\"Elastic Api Key: \")"
   ],
   "id": "5be75ecc855e59b9",
   "outputs": [],
   "execution_count": 5
  },
  {
   "metadata": {},
   "cell_type": "markdown",
   "source": "#### Prepare documents for chunking and ingestion",
   "id": "84f107432173d8df"
  },
  {
   "metadata": {
    "ExecuteTime": {
     "end_time": "2024-05-30T17:46:27.303481Z",
     "start_time": "2024-05-30T17:46:26.625946Z"
    }
   },
   "cell_type": "code",
   "source": [
    "url = \"https://raw.githubusercontent.com/elastic/elasticsearch-labs/main/datasets/workplace-documents.json\"\n",
    "\n",
    "response = urlopen(url)\n",
    "\n",
    "workplace_docs = json.loads(response.read())\n",
    "metadata = []\n",
    "content = []\n",
    "for doc in workplace_docs:\n",
    "    content.append(doc[\"content\"])\n",
    "    metadata.append(\n",
    "        {\n",
    "            \"name\": doc[\"name\"],\n",
    "            \"summary\": doc[\"summary\"],\n",
    "            \"rolePermissions\": doc[\"rolePermissions\"],\n",
    "        }\n",
    "    )\n",
    "    \n",
    "text_splitter = RecursiveCharacterTextSplitter.from_tiktoken_encoder(\n",
    "    chunk_size=512, chunk_overlap=256\n",
    ")\n",
    "docs = text_splitter.create_documents(content, metadatas=metadata)"
   ],
   "id": "4f949859a20b22d6",
   "outputs": [],
   "execution_count": 6
  },
  {
   "metadata": {},
   "cell_type": "markdown",
   "source": "#### Define Elasticsearch Vector Store",
   "id": "a52ec8a0a663f581"
  },
  {
   "metadata": {
    "ExecuteTime": {
     "end_time": "2024-05-30T17:46:30.272319Z",
     "start_time": "2024-05-30T17:46:30.039249Z"
    }
   },
   "cell_type": "code",
   "source": [
    "es_vector_store = ElasticsearchStore(\n",
    "    es_cloud_id=ELASTIC_CLOUD_ID,\n",
    "    es_api_key=ELASTIC_API_KEY,\n",
    "    index_name=\"workplace_index_elser\",\n",
    "    strategy=ElasticsearchStore.SparseVectorRetrievalStrategy(\n",
    "        model_id=\".elser_model_2_linux-x86_64\"\n",
    "    )\n",
    ")\n"
   ],
   "id": "fc52a85c69f6e9fb",
   "outputs": [],
   "execution_count": 7
  },
  {
   "metadata": {},
   "cell_type": "markdown",
   "source": "#### Add docs processed above. The document has already been chunked. The embeddings would be generated in Elasticsearch with an ingestion pipeline.",
   "id": "7f38b91b2a358994"
  },
  {
   "metadata": {
    "ExecuteTime": {
     "end_time": "2024-05-30T17:46:34.635666Z",
     "start_time": "2024-05-30T17:46:33.101560Z"
    }
   },
   "cell_type": "code",
   "source": "es_vector_store.add_documents(documents=docs)",
   "id": "5ee38329856ea47c",
   "outputs": [
    {
     "data": {
      "text/plain": [
       "['0c88fd07-e115-4d3d-b87c-f15404f5edcb',\n",
       " 'acf4565d-6bac-410d-bc5f-40afe7e07bcc',\n",
       " '984bc926-9311-4c07-89fc-16fa86ab1a66',\n",
       " 'ca8810f4-edeb-47df-b198-5bff6ed4ff64',\n",
       " '50a342f2-58fa-463d-bc77-20a557c3e37f',\n",
       " '5daa4345-8781-463f-9ed7-02432793da62',\n",
       " 'eeabdcd3-a360-4b14-a4b7-8a40d07b6c7d',\n",
       " '793294d6-e743-49a4-8898-ade4bc45e453',\n",
       " '3a4e9c41-ffcd-40ec-bee9-c3df7c29caee',\n",
       " 'd4c1dd98-aa22-4139-bb6f-aafc3a6d3528',\n",
       " '26907106-9adb-4d2b-8d49-a95433d87016',\n",
       " 'fc6c2c51-97ac-49dd-b234-80083c21f8c9',\n",
       " '5345dcda-3b5a-48a6-92e0-9fb8cc5bd5d2',\n",
       " 'b9cf77e1-3387-4aa9-a998-c18d17555930',\n",
       " 'ddf202d7-9dc8-425e-a40d-c067a25c1b3d',\n",
       " '3d0d34db-6e43-400d-9cba-30273002e075',\n",
       " 'd5baeec7-6675-40f0-8be4-4b0aca14ccd9',\n",
       " 'e88c7e27-2daa-4e33-a492-76e7dfd629b5',\n",
       " '12e1db8f-70ef-4419-bcb6-7a2a39e2ff04',\n",
       " '25efe115-a61b-4ad6-aecf-96e514c7090f',\n",
       " '0f0fa0ae-13e0-4691-8909-889cda19f744',\n",
       " '135677a7-2bb6-4bdd-9f7c-c9998c284073',\n",
       " 'a9990658-5154-40fc-8461-1ae6787f4435',\n",
       " 'b0e6848e-b523-4689-8d94-c4ce775b5e2f',\n",
       " '9d5c3e2e-c713-4fde-b842-d5beba05486a',\n",
       " 'f78fbaf3-3932-4ec1-b6e1-e216494e21ed']"
      ]
     },
     "execution_count": 8,
     "metadata": {},
     "output_type": "execute_result"
    }
   ],
   "execution_count": 8
  },
  {
   "metadata": {},
   "cell_type": "markdown",
   "source": "#### LLM Configuration",
   "id": "8a5a628abfb6a5a"
  },
  {
   "metadata": {
    "ExecuteTime": {
     "end_time": "2024-05-30T17:46:37.400275Z",
     "start_time": "2024-05-30T17:46:37.395907Z"
    }
   },
   "cell_type": "code",
   "source": "llm = Ollama(model=\"llama3\")",
   "id": "23e35e152e9a2714",
   "outputs": [],
   "execution_count": 9
  },
  {
   "metadata": {},
   "cell_type": "markdown",
   "source": "#### Semantic Search using Elasticsearch ELSER and Llama3",
   "id": "dbca801f2aae187"
  },
  {
   "metadata": {
    "ExecuteTime": {
     "end_time": "2024-05-30T17:46:53.654217Z",
     "start_time": "2024-05-30T17:46:39.846439Z"
    }
   },
   "cell_type": "code",
   "source": [
    "def format_docs(docs):\n",
    "    return \"\\n\\n\".join(doc.page_content for doc in docs)\n",
    "\n",
    "retriever = es_vector_store.as_retriever()\n",
    "template = \"\"\"Answer the question based only on the following context:\\n\n",
    "\n",
    "                {context}\n",
    "                \n",
    "                Question: {question}\n",
    "               \"\"\"\n",
    "prompt = ChatPromptTemplate.from_template(template)\n",
    "chain = (\n",
    "    {\"context\": retriever | format_docs, \"question\": RunnablePassthrough()}\n",
    "    | prompt\n",
    "    | llm\n",
    "    | StrOutputParser()\n",
    ")\n",
    "\n",
    "chain.invoke(\"What are the organizations sales goals?\")"
   ],
   "id": "d348766295f19e35",
   "outputs": [
    {
     "data": {
      "text/plain": [
       "\"Based on the provided context, the organization's sales goals for fiscal year 2024 are:\\n\\n1. Increase revenue by 20% compared to fiscal year 2023.\\n2. Expand market share in key segments by 15%.\\n3. Retain 95% of existing customers and increase customer satisfaction ratings.\\n\\nThese goals aim to drive growth, strengthen relationships with customers, and improve overall performance.\""
      ]
     },
     "execution_count": 10,
     "metadata": {},
     "output_type": "execute_result"
    }
   ],
   "execution_count": 10
  },
  {
   "metadata": {},
   "cell_type": "code",
   "outputs": [],
   "execution_count": null,
   "source": "",
   "id": "a05c080e55bde56c"
  }
 ],
 "metadata": {
  "kernelspec": {
   "display_name": ".venv",
   "language": "python",
   "name": ".venv"
  },
  "language_info": {
   "codemirror_mode": {
    "name": "ipython",
    "version": 2
   },
   "file_extension": ".py",
   "mimetype": "text/x-python",
   "name": "python",
   "nbconvert_exporter": "python",
   "pygments_lexer": "ipython2",
   "version": "2.7.6"
  }
 },
 "nbformat": 4,
 "nbformat_minor": 5
}
